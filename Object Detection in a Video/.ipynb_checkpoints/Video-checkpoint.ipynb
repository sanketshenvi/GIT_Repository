{
 "cells": [
  {
   "cell_type": "markdown",
   "metadata": {},
   "source": [
    "https://www.analyticsvidhya.com/blog/2018/12/practical-guide-object-detection-yolo-framewor-python/"
   ]
  },
  {
   "cell_type": "code",
   "execution_count": 36,
   "metadata": {},
   "outputs": [],
   "source": [
    "import cv2 \n",
    "import os\n",
    "import shutil\n",
    "import sys"
   ]
  },
  {
   "cell_type": "code",
   "execution_count": 38,
   "metadata": {},
   "outputs": [],
   "source": [
    "def imgsplit(path,videoname):\n",
    "    cam = cv2.VideoCapture(path+videoname)\n",
    "    currentframe = 0\n",
    "    imgdir=path+\"imageforvideo/\"\n",
    "    if not os.path.exists(imgdir):\n",
    "        os.makedirs(imgdir)\n",
    "    while(True):\n",
    "        ret,frame = cam.read()\n",
    "        if ret: \n",
    "            name = imgdir + \"frame\" + str(currentframe) + '.jpg'\n",
    "    #        print ('Creating...' + name)\n",
    "            cv2.imwrite(name, frame)\n",
    "            currentframe += 1\n",
    "        else:\n",
    "            break\n",
    "    cam.release() \n",
    "    cv2.destroyAllWindows()\n",
    "    return (imgdir)"
   ]
  },
  {
   "cell_type": "code",
   "execution_count": 39,
   "metadata": {},
   "outputs": [],
   "source": [
    "def videocreate(path,videoname):\n",
    "    img_array = []\n",
    "    for count in range(len(os.listdir(path+ \"imageforvideo/\"))):\n",
    "      name = path+ \"imageforvideo/\" + \"frame\" + str(count) + '.jpg'\n",
    "      img = cv2.imread(name)\n",
    "      height, width, layers = img.shape\n",
    "      size = (width,height)\n",
    "      img_array.append(img)\n",
    "    newvideopath=path+\"newvideo.mp4\"\n",
    "    out = cv2.VideoWriter(newvideopath,cv2.VideoWriter_fourcc(*\"DIVX\"), 24, size)\n",
    "    for i in range(len(img_array)):\n",
    "      out.write(img_array[i])\n",
    "    shutil.rmtree(path+ \"imageforvideo/\")\n",
    "    out.release()\n",
    "    return(newvideopath)"
   ]
  },
  {
   "cell_type": "code",
   "execution_count": 43,
   "metadata": {},
   "outputs": [
    {
     "name": "stdout",
     "output_type": "stream",
     "text": [
      "Enter the input path:C:/Users/Sanket.Shenvi/Desktop/Data Analytics/video/\n",
      "Enter the file nameSampleVideo_1280x720_5mb.mp4\n"
     ]
    }
   ],
   "source": [
    "path=input(\"Enter the input path:\")\n",
    "videoname=input(\"Enter the file name\")\n",
    "#path=\"C:/Users/Sanket.Shenvi/Desktop/Data Analytics/video/\"\n",
    "#videoname=\"SampleVideo_1280x720_5mb.mp4\""
   ]
  },
  {
   "cell_type": "code",
   "execution_count": 44,
   "metadata": {},
   "outputs": [
    {
     "data": {
      "text/plain": [
       "'C:/Users/Sanket.Shenvi/Desktop/Data Analytics/video/newvideo.mp4'"
      ]
     },
     "execution_count": 44,
     "metadata": {},
     "output_type": "execute_result"
    }
   ],
   "source": [
    "imgsplit(path,videoname)\n",
    "videocreate(path,videoname)"
   ]
  },
  {
   "cell_type": "code",
   "execution_count": null,
   "metadata": {},
   "outputs": [],
   "source": []
  }
 ],
 "metadata": {
  "kernelspec": {
   "display_name": "Python 3",
   "language": "python",
   "name": "python3"
  },
  "language_info": {
   "codemirror_mode": {
    "name": "ipython",
    "version": 3
   },
   "file_extension": ".py",
   "mimetype": "text/x-python",
   "name": "python",
   "nbconvert_exporter": "python",
   "pygments_lexer": "ipython3",
   "version": "3.6.5"
  }
 },
 "nbformat": 4,
 "nbformat_minor": 2
}
