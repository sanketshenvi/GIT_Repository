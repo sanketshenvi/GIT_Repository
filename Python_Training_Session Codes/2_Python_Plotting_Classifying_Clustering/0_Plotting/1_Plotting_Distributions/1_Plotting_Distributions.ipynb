{
 "cells": [
  {
   "cell_type": "markdown",
   "metadata": {},
   "source": [
    "# Visualising Distribution Data\n",
    "\n",
    "Here we will be using the ```seaborn``` library for data visualisation. Seaborn is a python library built on top of ```matplotlib```. It creates much more attractive plots than ```matplotlib```, and is often more concise than ```matplotlib``` when you want to customize your plots, add colors, grids etc."
   ]
  },
  {
   "cell_type": "code",
   "execution_count": null,
   "metadata": {},
   "outputs": [],
   "source": [
    "import numpy as np\n",
    "import pandas as pd\n",
    "import matplotlib.pyplot as plt\n",
    "import seaborn as sns\n",
    "# set a seaborn style of your taste\n",
    "sns.set_style(\"whitegrid\") # white,dark,darkgrid,etc"
   ]
  },
  {
   "cell_type": "code",
   "execution_count": null,
   "metadata": {},
   "outputs": [],
   "source": [
    "df = pd.read_csv(\"./global_sales_data/market_fact.csv\")"
   ]
  },
  {
   "cell_type": "markdown",
   "metadata": {},
   "source": [
    "### Histograms and Density Plots\n",
    "\n",
    "Histograms and density plots show the frequency of a numeric variable along the y-axis, and the value along the x-axis. The ```sns.distplot()``` function plots a density curve."
   ]
  },
  {
   "cell_type": "code",
   "execution_count": null,
   "metadata": {},
   "outputs": [],
   "source": [
    "#Normal Histogram\n",
    "sns.distplot(df['Shipping_Cost'])\n",
    "plt.show()"
   ]
  },
  {
   "cell_type": "code",
   "execution_count": null,
   "metadata": {},
   "outputs": [],
   "source": [
    "#With Rug Plot\n",
    "sns.distplot(df['Shipping_Cost'][:200], rug=True)\n",
    "plt.show()"
   ]
  },
  {
   "cell_type": "code",
   "execution_count": null,
   "metadata": {},
   "outputs": [],
   "source": [
    "#Simple Density Plot\n",
    "sns.distplot(df['Sales'], hist=False)\n",
    "plt.show()"
   ]
  },
  {
   "cell_type": "markdown",
   "metadata": {},
   "source": [
    "# Subplots"
   ]
  },
  {
   "cell_type": "code",
   "execution_count": null,
   "metadata": {},
   "outputs": [],
   "source": [
    "# subplots\n",
    "\n",
    "# subplot 1\n",
    "plt.subplot(2, 2, 1)\n",
    "plt.title('Sales')\n",
    "sns.distplot(df['Sales'])\n",
    "\n",
    "# subplot 2\n",
    "plt.subplot(2, 2, 2)\n",
    "plt.title('Profit')\n",
    "sns.distplot(df['Profit'])\n",
    "\n",
    "# subplot 3\n",
    "plt.subplot(2, 2, 3)\n",
    "# plt.title('Order Quantity')\n",
    "sns.distplot(df['Order_Quantity'])\n",
    "\n",
    "# subplot 4\n",
    "plt.subplot(2, 2, 4)\n",
    "# plt.title('Shipping Cost')\n",
    "sns.distplot(df['Shipping_Cost'])\n",
    "\n",
    "plt.show()\n"
   ]
  },
  {
   "cell_type": "markdown",
   "metadata": {},
   "source": [
    "### Boxplots\n"
   ]
  },
  {
   "cell_type": "code",
   "execution_count": null,
   "metadata": {},
   "outputs": [],
   "source": [
    "# boxplot\n",
    "sns.boxplot(df['Order_Quantity'])# Default Horizontal Axis\n",
    "plt.title('Order Quantity')\n",
    "\n",
    "plt.show()"
   ]
  },
  {
   "cell_type": "code",
   "execution_count": null,
   "metadata": {},
   "outputs": [],
   "source": [
    "sns.boxplot(y=df['Order_Quantity'])#For Vertical Axis\n",
    "plt.title('Order Quantity')\n",
    "\n",
    "plt.show()"
   ]
  },
  {
   "cell_type": "markdown",
   "metadata": {},
   "source": [
    "### Joint Plot"
   ]
  },
  {
   "cell_type": "code",
   "execution_count": null,
   "metadata": {},
   "outputs": [],
   "source": [
    "sns.jointplot('Sales', 'Profit', df)\n",
    "plt.show()\n",
    "\n",
    "# same as sns.jointplot(df['Sales'], df['Profit'])"
   ]
  },
  {
   "cell_type": "code",
   "execution_count": null,
   "metadata": {},
   "outputs": [],
   "source": [
    "df = df[(df.Profit < 10000) & (df.Sales < 20000)]\n",
    "\n",
    "sns.jointplot('Sales', 'Profit', df)\n",
    "plt.show()"
   ]
  },
  {
   "cell_type": "code",
   "execution_count": null,
   "metadata": {},
   "outputs": [],
   "source": [
    "#Using Hex\n",
    "df = pd.read_csv(\"./global_sales_data/market_fact.csv\")\n",
    "df = df[(df.Profit < 100) & (df.Profit > -100) & (df.Sales < 200)]\n",
    "sns.jointplot('Sales', 'Profit', df, kind=\"hex\", color=\"k\")\n",
    "plt.show()"
   ]
  },
  {
   "cell_type": "markdown",
   "metadata": {},
   "source": [
    "# Crypto Currency Plotting"
   ]
  },
  {
   "cell_type": "markdown",
   "metadata": {},
   "source": [
    "Something extra which will help you to plot multivariant data"
   ]
  },
  {
   "cell_type": "code",
   "execution_count": null,
   "metadata": {},
   "outputs": [],
   "source": [
    "btc = pd.read_csv(\"crypto_data/bitcoin_price.csv\")\n",
    "ether = pd.read_csv(\"crypto_data/ethereum_price.csv\")\n",
    "ltc = pd.read_csv(\"crypto_data/litecoin_price.csv\")\n",
    "monero = pd.read_csv(\"crypto_data/monero_price.csv\")\n",
    "neo = pd.read_csv(\"crypto_data/neo_price.csv\")\n",
    "quantum = pd.read_csv(\"crypto_data/qtum_price.csv\")\n",
    "ripple = pd.read_csv(\"crypto_data/ripple_price.csv\")"
   ]
  },
  {
   "cell_type": "code",
   "execution_count": null,
   "metadata": {},
   "outputs": [],
   "source": [
    "btc.columns = btc.columns.map(lambda x: str(x) + '_a')\n",
    "ether.columns = ether.columns.map(lambda x: str(x) + '_b')\n",
    "ltc.columns = ltc.columns.map(lambda x: str(x) + '_c')\n",
    "monero.columns = monero.columns.map(lambda x: str(x) + '_d')\n",
    "neo.columns = neo.columns.map(lambda x: str(x) + '_e')\n",
    "quantum.columns = quantum.columns.map(lambda x: str(x) + '_f')\n",
    "ripple.columns = ripple.columns.map(lambda x: str(x) + '_g')"
   ]
  },
  {
   "cell_type": "code",
   "execution_count": null,
   "metadata": {},
   "outputs": [],
   "source": [
    "btc.head()"
   ]
  },
  {
   "cell_type": "code",
   "execution_count": null,
   "metadata": {},
   "outputs": [],
   "source": [
    "# Objective is to uncerstand dataframe merging since this was not covered previously.\n",
    "m1 = pd.merge(btc, ether, how=\"inner\", left_on=\"Date_a\", right_on=\"Date_b\")\n",
    "m2 = pd.merge(m1, ltc, how=\"inner\", left_on=\"Date_a\", right_on=\"Date_c\")\n",
    "m3 = pd.merge(m2, monero, how=\"inner\", left_on=\"Date_a\", right_on=\"Date_d\")\n",
    "m4 = pd.merge(m3, neo, how=\"inner\", left_on=\"Date_a\", right_on=\"Date_e\")\n",
    "m5 = pd.merge(m4, quantum, how=\"inner\", left_on=\"Date_a\", right_on=\"Date_f\")\n",
    "crypto = pd.merge(m5, ripple, how=\"inner\", left_on=\"Date_a\", right_on=\"Date_g\")\n",
    "\n",
    "crypto.head()"
   ]
  },
  {
   "cell_type": "code",
   "execution_count": null,
   "metadata": {},
   "outputs": [],
   "source": [
    "curr = crypto[[\"Close_a\", \"Close_b\", 'Close_c', \"Close_d\", \"Close_e\", \"Close_f\"]]\n",
    "curr.head()"
   ]
  },
  {
   "cell_type": "code",
   "execution_count": null,
   "metadata": {},
   "outputs": [],
   "source": [
    "sns.pairplot(curr)\n",
    "plt.show()"
   ]
  },
  {
   "cell_type": "code",
   "execution_count": null,
   "metadata": {},
   "outputs": [],
   "source": [
    "cor = curr.corr()\n",
    "cor=round(cor, 3)\n",
    "cor"
   ]
  },
  {
   "cell_type": "markdown",
   "metadata": {},
   "source": [
    "# Heatmap"
   ]
  },
  {
   "cell_type": "code",
   "execution_count": null,
   "metadata": {},
   "outputs": [],
   "source": [
    "plt.figure(figsize=(10,8))#Setting Figure Size\n",
    "sns.heatmap(cor, cmap=\"YlGnBu\", annot=True)\n",
    "plt.show()"
   ]
  },
  {
   "cell_type": "code",
   "execution_count": null,
   "metadata": {},
   "outputs": [],
   "source": []
  }
 ],
 "metadata": {
  "kernelspec": {
   "display_name": "Python 3",
   "language": "python",
   "name": "python3"
  },
  "language_info": {
   "codemirror_mode": {
    "name": "ipython",
    "version": 3
   },
   "file_extension": ".py",
   "mimetype": "text/x-python",
   "name": "python",
   "nbconvert_exporter": "python",
   "pygments_lexer": "ipython3",
   "version": "3.6.5"
  }
 },
 "nbformat": 4,
 "nbformat_minor": 2
}
