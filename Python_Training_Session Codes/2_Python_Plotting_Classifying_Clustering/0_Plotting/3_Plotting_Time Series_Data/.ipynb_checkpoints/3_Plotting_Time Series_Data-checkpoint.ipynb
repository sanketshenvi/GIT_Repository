{
 "cells": [
  {
   "cell_type": "markdown",
   "metadata": {},
   "source": [
    "# Visualising Time Series Data"
   ]
  },
  {
   "cell_type": "code",
   "execution_count": null,
   "metadata": {},
   "outputs": [],
   "source": [
    "import numpy as np\n",
    "import pandas as pd\n",
    "import matplotlib.pyplot as plt\n",
    "import seaborn as sns\n",
    "\n",
    "sns.set(style=\"white\")"
   ]
  },
  {
   "cell_type": "code",
   "execution_count": null,
   "metadata": {},
   "outputs": [],
   "source": [
    "market_df = pd.read_csv(\"./global_sales_data/market_fact.csv\")\n",
    "customer_df = pd.read_csv(\"./global_sales_data/cust_dimen.csv\")\n",
    "product_df = pd.read_csv(\"./global_sales_data/prod_dimen.csv\")\n",
    "shipping_df = pd.read_csv(\"./global_sales_data/shipping_dimen.csv\")\n",
    "orders_df = pd.read_csv(\"./global_sales_data/orders_dimen.csv\")"
   ]
  },
  {
   "cell_type": "code",
   "execution_count": null,
   "metadata": {},
   "outputs": [],
   "source": [
    "market_df.head()"
   ]
  },
  {
   "cell_type": "code",
   "execution_count": null,
   "metadata": {},
   "outputs": [],
   "source": [
    "# merging with the Orders data to get the Date column\n",
    "df = pd.merge(market_df, orders_df, how='inner', on='Ord_id')\n",
    "df.head()"
   ]
  },
  {
   "cell_type": "code",
   "execution_count": null,
   "metadata": {},
   "outputs": [],
   "source": [
    "df.info()"
   ]
  },
  {
   "cell_type": "markdown",
   "metadata": {},
   "source": [
    "Since ```Order_Date``` is a string, we need to convert it into a ```datetime``` object. You can do that using ```pd.to_datetime()```."
   ]
  },
  {
   "cell_type": "code",
   "execution_count": null,
   "metadata": {},
   "outputs": [],
   "source": [
    "# Convert Order_Date to datetime type\n",
    "df['Order_Date'] = pd.to_datetime(df['Order_Date'])\n",
    "\n",
    "# Order_Date is now datetime type\n",
    "df.info()"
   ]
  },
  {
   "cell_type": "markdown",
   "metadata": {},
   "source": [
    "Now, since on each day, multiple orders were placed, we need to aggregate ```Sales``` using a metric such as mean, median etc., and then create a time series plot.\n",
    "\n",
    "We will group by ```Order_Date``` and compute the sum of ```Sales``` on each day."
   ]
  },
  {
   "cell_type": "code",
   "execution_count": null,
   "metadata": {},
   "outputs": [],
   "source": [
    "print(df.head())\n",
    "time_df = df.groupby('Order_Date')['Sales'].sum()\n",
    "print(time_df.head())\n",
    "\n",
    "print(type(time_df))"
   ]
  },
  {
   "cell_type": "code",
   "execution_count": null,
   "metadata": {},
   "outputs": [],
   "source": [
    "plt.figure(figsize=(16, 8))\n",
    "\n",
    "# tsplot\n",
    "sns.tsplot(data=time_df)\n",
    "plt.show()"
   ]
  },
  {
   "cell_type": "code",
   "execution_count": null,
   "metadata": {},
   "outputs": [],
   "source": [
    "df['month'] = df['Order_Date'].dt.month\n",
    "\n",
    "# extract year\n",
    "df['year'] = df['Order_Date'].dt.year\n",
    "\n",
    "df.head()"
   ]
  },
  {
   "cell_type": "code",
   "execution_count": null,
   "metadata": {},
   "outputs": [],
   "source": [
    "df_time = df.groupby([\"year\", \"month\"]).Sales.mean()\n",
    "df_time.head()"
   ]
  },
  {
   "cell_type": "code",
   "execution_count": null,
   "metadata": {},
   "outputs": [],
   "source": [
    "plt.figure(figsize=(8, 6))\n",
    "# time series plot\n",
    "sns.tsplot(df_time)\n",
    "plt.xlabel(\"Time\")\n",
    "plt.ylabel(\"Sales\")\n",
    "plt.show()"
   ]
  },
  {
   "cell_type": "code",
   "execution_count": null,
   "metadata": {},
   "outputs": [],
   "source": [
    "year_month = pd.pivot_table(df, values='Sales', index='year', columns='month', aggfunc='mean')\n",
    "year_month.head()"
   ]
  },
  {
   "cell_type": "markdown",
   "metadata": {},
   "source": [
    "# Create Heatmap"
   ]
  },
  {
   "cell_type": "code",
   "execution_count": null,
   "metadata": {},
   "outputs": [],
   "source": [
    "plt.figure(figsize=(12, 8))\n",
    "\n",
    "# heatmap with a color map of choice\n",
    "sns.heatmap(year_month, cmap=\"YlGnBu\")\n",
    "plt.show()"
   ]
  },
  {
   "cell_type": "markdown",
   "metadata": {},
   "source": [
    "# Summary\n",
    "\n",
    "<h4><center>Plotting Summary</center></h4>\n",
    "\n",
    "\n",
    "\n",
    "| Plot Type  | Plot Semi Syntax           | Syntax             |\n",
    "| ------------- |:--------------:| ----------------:|\n",
    "| Normal Plotting           | plt.plot(x, y)  |  plt.plot$(x, y1, $'s'$, x, y2, $'b+'$, x, y3,$ 'o'$)$   |\n",
    "| Subplot          | plt.subplot() |plt.subplot$(122)$    |\n",
    "| Histogram and Density Plot         | sns.distplot(df)|sns.distplot$(df$['Sales']$, hist=$False$,rug=$True$)$   |\n",
    "| Boxplot          | sns.boxplot(df)  |sns.boxplot$(x=$'Customer_Segment'$, y=$'Profit'$, hue=$\"Product_Category\"$, data=df)$     |\n",
    "| Joint Plot           | sns.jointplot('a', 'b', df)  |sns.jointplot$(x=$'Sales'$,y= $'Profit'$, df, kind=$\"hex\"$, color=$\"k\"$)$     |\n",
    "|Pair Plot         | sns.pairplot(curr) |sns.pairplot$(df)$     |\n",
    "| Heatmap|sns.heatmap(corr) |sns.heatmap$(corr, cmap=$\"YlGnBu\"$, annot=$True$)$  |\n",
    "|Bar Plot         | sns.barplot(x,y,df) |sns.barplot$(x=$'Product_Category'$, y=$'Sales'$, data=$df$,estimator=$np.median$)$   |\n",
    "|Time Series Plot         | sns.tsplot() |sns.tsplot$(data=$time_df$)$     |\n",
    "| ...           |   ...          |       ...        |"
   ]
  },
  {
   "cell_type": "code",
   "execution_count": null,
   "metadata": {},
   "outputs": [],
   "source": []
  }
 ],
 "metadata": {
  "kernelspec": {
   "display_name": "Python 3",
   "language": "python",
   "name": "python3"
  },
  "language_info": {
   "codemirror_mode": {
    "name": "ipython",
    "version": 3
   },
   "file_extension": ".py",
   "mimetype": "text/x-python",
   "name": "python",
   "nbconvert_exporter": "python",
   "pygments_lexer": "ipython3",
   "version": "3.6.5"
  }
 },
 "nbformat": 4,
 "nbformat_minor": 2
}
