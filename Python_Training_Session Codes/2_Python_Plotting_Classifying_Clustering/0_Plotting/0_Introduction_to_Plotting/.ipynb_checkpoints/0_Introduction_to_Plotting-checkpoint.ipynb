{
 "cells": [
  {
   "cell_type": "markdown",
   "metadata": {},
   "source": [
    "# Basic Plotting: Introduction to *matplotlib*\n",
    "\n",
    "- Create basic plots using *matplotlib.pyplot*\n",
    "- Put axis labels and titles\n",
    "- Create multiple plots (subplots) in the same figure\n",
    "- Change the scales of x and y axes\n",
    "- Create common types of plots: Histograms, boxplots, scatter plots etc. \n",
    "- Working with images\n",
    "\n",
    "***matplotlib*** is a python library. It contains the ***pyplot*** module, which is basically a collection of functions such as ```plot```, ```title```, ```show()``` etc. ```pyplot``` is one of the most commonly used module for creating a variety of plots such as line plots, bar plots, histograms etc. \n"
   ]
  },
  {
   "cell_type": "code",
   "execution_count": null,
   "metadata": {},
   "outputs": [],
   "source": [
    "import numpy as np\n",
    "import pandas as pd\n",
    "import matplotlib.pyplot as plt"
   ]
  },
  {
   "cell_type": "code",
   "execution_count": null,
   "metadata": {},
   "outputs": [],
   "source": [
    "x = np.linspace(5, 100, 100)\n",
    "print(x)\n",
    "y = np.linspace(10, 1000, 100)\n",
    "print(y)"
   ]
  },
  {
   "cell_type": "code",
   "execution_count": null,
   "metadata": {},
   "outputs": [],
   "source": [
    "plt.plot(x, y)"
   ]
  },
  {
   "cell_type": "code",
   "execution_count": null,
   "metadata": {},
   "outputs": [],
   "source": [
    "plt.plot([1, 4, 6, 8], [3, 8, 3, 5])\n",
    "plt.show() #<-- This is optional"
   ]
  },
  {
   "cell_type": "markdown",
   "metadata": {},
   "source": [
    "<h3><center>Figure Labels and Titles</center></h3>"
   ]
  },
  {
   "cell_type": "code",
   "execution_count": null,
   "metadata": {},
   "outputs": [],
   "source": [
    "plt.plot(x, y)\n",
    "# x and y labels, and title\n",
    "plt.xlabel(\"Current\")\n",
    "plt.ylabel(\"Voltage\")\n",
    "plt.title(\"Ohm's Law\")\n",
    "# Define the range of labels of the axis \n",
    "plt.xlim([20, 80])\n",
    "plt.ylim([200, 800])\n",
    "plt.show()"
   ]
  },
  {
   "cell_type": "code",
   "execution_count": null,
   "metadata": {},
   "outputs": [],
   "source": [
    "x = np.linspace(0, 10, 200)\n",
    "z = x**2\n",
    "# color blue, line type '+'\n",
    "plt.plot(x, z, 'o')\n",
    "plt.xlabel(\"Current\")\n",
    "plt.ylabel(\"Voltage\")\n",
    "plt.title(\"Ohm's Law\")\n",
    "plt.show()\n"
   ]
  },
  {
   "cell_type": "markdown",
   "metadata": {},
   "source": [
    "|Marker  | Syntax           |\n",
    "|------------- |:--------------:|\n",
    "| point          | \".\"  |\n",
    "| pixel         | \",\" |\n",
    "| circle         | \"o\"|\n",
    "| Triangle Down        | \"v\"  |\n",
    "| Triangle up | \"^\"  |\n",
    "| square | \"s\"  |\n",
    "| plus | \"+\"  |\n",
    "| cross | \"x\"  |\n",
    "| vline | \"$|$\"  |\n",
    "| hline | \"_\"  "
   ]
  },
  {
   "cell_type": "code",
   "execution_count": null,
   "metadata": {},
   "outputs": [],
   "source": [
    "x = np.linspace(0, 5, 100)\n",
    "y = np.linspace(3, 6, 100)\n",
    "\n",
    "# plot three curves: y, y**2 and y**3 with different line types\n",
    "plt.plot(x, y, 'r-', x, y**2, 'b+', x, y**3, 'g^')\n",
    "plt.show()"
   ]
  },
  {
   "cell_type": "markdown",
   "metadata": {},
   "source": [
    "<h2><center>Figures and Subplots<center></h2>"
   ]
  },
  {
   "cell_type": "code",
   "execution_count": null,
   "metadata": {},
   "outputs": [],
   "source": [
    "x = np.linspace(1, 10, 100)\n",
    "y = np.log(x) \n",
    "plt.figure()\n",
    "# Create a subplot with 1 row, 2 columns \n",
    "# create the first subplot in figure 1 \n",
    "plt.subplot(122)# equivalent to plt.subplot(1, 2, 2)\n",
    "plt.title(\"y = log(x)\")\n",
    "plt.plot(x, y)\n",
    "# create the second subplot in figure 1\n",
    "plt.subplot(121)\n",
    "plt.title(\"y = log(x)**2\")\n",
    "plt.plot(x, y**2)\n",
    "plt.show()"
   ]
  },
  {
   "cell_type": "code",
   "execution_count": null,
   "metadata": {},
   "outputs": [],
   "source": [
    "#Create a figure having 4 subplots\n",
    "x = np.linspace(1, 10, 100)\n",
    "plt.figure(1)\n",
    "\n",
    "# subplot 1\n",
    "plt.subplot(2, 2, 1)\n",
    "plt.title(\"Linear\")\n",
    "plt.plot(x, x)\n",
    "\n",
    "# subplot 2 \n",
    "plt.subplot(2, 2, 2)\n",
    "plt.title(\"Cubic\")\n",
    "plt.plot(x, x**3)\n",
    "\n",
    "# subplot 3\n",
    "plt.figure(2)\n",
    "plt.subplot(2, 2, 1)\n",
    "plt.title(\"Log\")\n",
    "plt.plot(x, np.log(x))\n",
    "\n",
    "# subplot 4 \n",
    "plt.subplot(2, 2, 2)\n",
    "plt.title(\"Exponential\")\n",
    "plt.plot(x, x**2)\n",
    "\n",
    "plt.show()"
   ]
  },
  {
   "cell_type": "markdown",
   "metadata": {},
   "source": [
    "## Types of Commonly Used Plots\n",
    "\n",
    "- Boxplots\n",
    "- Histograms\n",
    "- Scatter plots\n",
    "- Bar plots"
   ]
  },
  {
   "cell_type": "code",
   "execution_count": null,
   "metadata": {},
   "outputs": [],
   "source": [
    "df = pd.read_csv(\"./global_sales_data/market_fact.csv\")\n",
    "df.describe()"
   ]
  },
  {
   "cell_type": "code",
   "execution_count": null,
   "metadata": {},
   "outputs": [],
   "source": [
    "df.head()"
   ]
  },
  {
   "cell_type": "markdown",
   "metadata": {},
   "source": [
    "<h2>Box Plot</h2>"
   ]
  },
  {
   "cell_type": "markdown",
   "metadata": {},
   "source": [
    "Visualise the distribution of a continuous variable"
   ]
  },
  {
   "cell_type": "code",
   "execution_count": null,
   "metadata": {},
   "outputs": [],
   "source": [
    "#Already Covered\n",
    "plt.boxplot(df['Order_Quantity'])\n",
    "plt.show()"
   ]
  },
  {
   "cell_type": "code",
   "execution_count": null,
   "metadata": {},
   "outputs": [],
   "source": [
    "plt.boxplot(df['Sales'])\n",
    "plt.show()"
   ]
  },
  {
   "cell_type": "code",
   "execution_count": null,
   "metadata": {},
   "outputs": [],
   "source": [
    "df['Sales'].describe()"
   ]
  },
  {
   "cell_type": "markdown",
   "metadata": {},
   "source": [
    "The solution to this problem is to **change the scale of the axis** (in this case, the y axis) so that the range can fit into the size of the plot.\n",
    "\n",
    "\n",
    "One commonly used technique is to transform an axis into the **logarithmic scale**. You can transform the scale of an axis using ```plt.yscale('log')```."
   ]
  },
  {
   "cell_type": "code",
   "execution_count": null,
   "metadata": {},
   "outputs": [],
   "source": [
    "plt.subplot(1, 2, 1)\n",
    "plt.boxplot(df['Sales'])\n",
    "# log scale subplot\n",
    "plt.subplot(1, 2, 2)\n",
    "plt.boxplot(df['Sales'])\n",
    "plt.yscale('log')\n",
    "plt.show()\n"
   ]
  },
  {
   "cell_type": "markdown",
   "metadata": {},
   "source": [
    "<h2>Histogram</h2>"
   ]
  },
  {
   "cell_type": "markdown",
   "metadata": {},
   "source": [
    "Histograms are useful for visualising distribution of single variables.\n"
   ]
  },
  {
   "cell_type": "code",
   "execution_count": null,
   "metadata": {},
   "outputs": [],
   "source": [
    "plt.hist(df['Sales'])\n",
    "plt.show()"
   ]
  },
  {
   "cell_type": "code",
   "execution_count": null,
   "metadata": {},
   "outputs": [],
   "source": [
    "plt.hist(df['Sales'])\n",
    "plt.yscale('log')\n",
    "plt.show()"
   ]
  },
  {
   "cell_type": "markdown",
   "metadata": {},
   "source": [
    "<h2>Scatter Plot</h2>\n",
    "\n",
    "Scatter plots are used to visualise two variables, one one each axis.\n"
   ]
  },
  {
   "cell_type": "code",
   "execution_count": null,
   "metadata": {},
   "outputs": [],
   "source": [
    "# Scatter plots with two variables: Profit and Sales\n",
    "plt.scatter(df['Sales'], df['Profit'])\n",
    "plt.show()"
   ]
  },
  {
   "cell_type": "markdown",
   "metadata": {},
   "source": [
    "# Read Images using matplotlib"
   ]
  },
  {
   "cell_type": "code",
   "execution_count": null,
   "metadata": {},
   "outputs": [],
   "source": [
    "image = plt.imread(\"country_analysis.png\")\n",
    "plt.imshow(image)\n",
    "plt.show()"
   ]
  },
  {
   "cell_type": "code",
   "execution_count": null,
   "metadata": {},
   "outputs": [],
   "source": [
    "print(type(image))\n",
    "print(image.shape)\n",
    "print(image.dtype)\n",
    "print(image.shape)"
   ]
  },
  {
   "cell_type": "code",
   "execution_count": null,
   "metadata": {},
   "outputs": [],
   "source": []
  }
 ],
 "metadata": {
  "kernelspec": {
   "display_name": "Python 3",
   "language": "python",
   "name": "python3"
  },
  "language_info": {
   "codemirror_mode": {
    "name": "ipython",
    "version": 3
   },
   "file_extension": ".py",
   "mimetype": "text/x-python",
   "name": "python",
   "nbconvert_exporter": "python",
   "pygments_lexer": "ipython3",
   "version": "3.6.5"
  }
 },
 "nbformat": 4,
 "nbformat_minor": 2
}
