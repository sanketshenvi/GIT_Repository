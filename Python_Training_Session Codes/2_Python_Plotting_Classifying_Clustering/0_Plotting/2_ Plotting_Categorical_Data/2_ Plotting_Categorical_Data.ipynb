{
 "cells": [
  {
   "cell_type": "markdown",
   "metadata": {},
   "source": [
    "## Plotting Categorical Data"
   ]
  },
  {
   "cell_type": "code",
   "execution_count": null,
   "metadata": {},
   "outputs": [],
   "source": [
    "import numpy as np\n",
    "import pandas as pd\n",
    "import matplotlib.pyplot as plt\n",
    "import seaborn as sns\n",
    "\n",
    "sns.set(style=\"white\")"
   ]
  },
  {
   "cell_type": "code",
   "execution_count": null,
   "metadata": {},
   "outputs": [],
   "source": [
    "\n",
    "market_df = pd.read_csv(\"./global_sales_data/market_fact.csv\")\n",
    "customer_df = pd.read_csv(\"./global_sales_data/cust_dimen.csv\")\n",
    "product_df = pd.read_csv(\"./global_sales_data/prod_dimen.csv\")\n",
    "shipping_df = pd.read_csv(\"./global_sales_data/shipping_dimen.csv\")\n",
    "orders_df = pd.read_csv(\"./global_sales_data/orders_dimen.csv\")\n"
   ]
  },
  {
   "cell_type": "markdown",
   "metadata": {},
   "source": [
    "# Boxplot"
   ]
  },
  {
   "cell_type": "code",
   "execution_count": null,
   "metadata": {},
   "outputs": [],
   "source": [
    "sns.boxplot(y=market_df['Sales'])\n",
    "plt.yscale('log')\n",
    "plt.show()\n"
   ]
  },
  {
   "cell_type": "code",
   "execution_count": null,
   "metadata": {},
   "outputs": [],
   "source": [
    "df = pd.merge(market_df, product_df, how='inner', on='Prod_id')\n",
    "df.head()"
   ]
  },
  {
   "cell_type": "code",
   "execution_count": null,
   "metadata": {},
   "outputs": [],
   "source": [
    "print(df['Product_Category'].value_counts())\n",
    "sns.boxplot(x='Product_Category', y='Sales', data=df)\n",
    "plt.yscale('log')\n",
    "plt.show()"
   ]
  },
  {
   "cell_type": "code",
   "execution_count": null,
   "metadata": {},
   "outputs": [],
   "source": [
    "plt.figure(figsize=(10, 8))\n",
    "\n",
    "# subplot 1: Sales\n",
    "plt.subplot(1, 2, 1)\n",
    "sns.boxplot(x='Product_Category', y='Sales', data=df)\n",
    "plt.title(\"Sales\")\n",
    "plt.yscale('log')\n",
    "\n",
    "# subplot 2: Profit\n",
    "plt.subplot(1, 2, 2)\n",
    "sns.boxplot(x='Product_Category', y='Profit', data=df)\n",
    "plt.title(\"Profit\")\n",
    "\n",
    "plt.show()"
   ]
  },
  {
   "cell_type": "code",
   "execution_count": null,
   "metadata": {},
   "outputs": [],
   "source": [
    "df = pd.merge(df, customer_df, how='inner', on='Cust_id')\n",
    "df.head()"
   ]
  },
  {
   "cell_type": "code",
   "execution_count": null,
   "metadata": {},
   "outputs": [],
   "source": [
    "print(df.Customer_Segment.value_counts())\n",
    "#df = df[(df.Profit<1000) & (df.Profit>-1000)]\n",
    "sns.boxplot(x='Customer_Segment', y='Profit', data=df)\n",
    "plt.show()"
   ]
  },
  {
   "cell_type": "code",
   "execution_count": null,
   "metadata": {},
   "outputs": [],
   "source": [
    "plt.figure(num=None, figsize=(12, 8), dpi=80, facecolor='w', edgecolor='k')\n",
    "# specify hue=\"categorical_variable\"\n",
    "sns.boxplot(x='Customer_Segment', y='Profit', hue=\"Product_Category\", data=df)\n",
    "plt.show()"
   ]
  },
  {
   "cell_type": "markdown",
   "metadata": {},
   "source": [
    "# Bar Plots"
   ]
  },
  {
   "cell_type": "code",
   "execution_count": null,
   "metadata": {},
   "outputs": [],
   "source": [
    "sns.barplot(x='Product_Category', y='Sales', data=df)\n",
    "plt.show()"
   ]
  },
  {
   "cell_type": "code",
   "execution_count": null,
   "metadata": {},
   "outputs": [],
   "source": [
    "plt.figure(figsize=(12, 6))\n",
    "# subplot 1: statistic=mean\n",
    "plt.subplot(1, 2, 1)\n",
    "sns.barplot(x='Product_Category', y='Sales', data=df)\n",
    "plt.title(\"Average Sales\")\n",
    "\n",
    "# subplot 2: statistic=median\n",
    "plt.subplot(1, 2, 2)\n",
    "sns.barplot(x='Product_Category', y='Sales', data=df, estimator=np.median) #estimator= count, median, sum, etc \n",
    "plt.title(\"Median Sales\")\n",
    "\n",
    "plt.show()\n"
   ]
  },
  {
   "cell_type": "code",
   "execution_count": null,
   "metadata": {},
   "outputs": [],
   "source": [
    "plt.figure(num=None, figsize=(12, 8))\n",
    "sns.barplot(x='Customer_Segment', y='Profit', hue=\"Product_Category\", data=df, estimator=np.median)\n",
    "plt.show()"
   ]
  },
  {
   "cell_type": "code",
   "execution_count": null,
   "metadata": {},
   "outputs": [],
   "source": [
    "# Plotting categorical variable across the y-axis\n",
    "plt.figure(figsize=(10, 8))\n",
    "sns.barplot(x='Profit', y=\"Product_Sub_Category\", data=df, estimator=np.median)\n",
    "plt.show()"
   ]
  },
  {
   "cell_type": "code",
   "execution_count": null,
   "metadata": {},
   "outputs": [],
   "source": []
  }
 ],
 "metadata": {
  "kernelspec": {
   "display_name": "Python 3",
   "language": "python",
   "name": "python3"
  },
  "language_info": {
   "codemirror_mode": {
    "name": "ipython",
    "version": 3
   },
   "file_extension": ".py",
   "mimetype": "text/x-python",
   "name": "python",
   "nbconvert_exporter": "python",
   "pygments_lexer": "ipython3",
   "version": "3.6.5"
  }
 },
 "nbformat": 4,
 "nbformat_minor": 2
}
